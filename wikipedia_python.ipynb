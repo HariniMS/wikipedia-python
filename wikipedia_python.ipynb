{
  "nbformat": 4,
  "nbformat_minor": 0,
  "metadata": {
    "colab": {
      "name": "wikipedia_python.ipynb",
      "provenance": [],
      "collapsed_sections": []
    },
    "kernelspec": {
      "name": "python3",
      "display_name": "Python 3"
    }
  },
  "cells": [
    {
      "cell_type": "markdown",
      "metadata": {
        "id": "tK4ARGCQ_bBQ",
        "colab_type": "text"
      },
      "source": [
        "# Getting wikipedia from google (using wikipedia)"
      ]
    },
    {
      "cell_type": "code",
      "metadata": {
        "id": "chCcgI3bqUkY",
        "colab_type": "code",
        "colab": {
          "base_uri": "https://localhost:8080/",
          "height": 289
        },
        "outputId": "17bfddf7-2b45-4b01-eec0-2b1eb047dde6"
      },
      "source": [
        "#installing wikipedia \n",
        "!pip install wikipedia"
      ],
      "execution_count": 1,
      "outputs": [
        {
          "output_type": "stream",
          "text": [
            "Collecting wikipedia\n",
            "  Downloading https://files.pythonhosted.org/packages/67/35/25e68fbc99e672127cc6fbb14b8ec1ba3dfef035bf1e4c90f78f24a80b7d/wikipedia-1.4.0.tar.gz\n",
            "Requirement already satisfied: beautifulsoup4 in /usr/local/lib/python3.6/dist-packages (from wikipedia) (4.6.3)\n",
            "Requirement already satisfied: requests<3.0.0,>=2.0.0 in /usr/local/lib/python3.6/dist-packages (from wikipedia) (2.23.0)\n",
            "Requirement already satisfied: chardet<4,>=3.0.2 in /usr/local/lib/python3.6/dist-packages (from requests<3.0.0,>=2.0.0->wikipedia) (3.0.4)\n",
            "Requirement already satisfied: urllib3!=1.25.0,!=1.25.1,<1.26,>=1.21.1 in /usr/local/lib/python3.6/dist-packages (from requests<3.0.0,>=2.0.0->wikipedia) (1.24.3)\n",
            "Requirement already satisfied: idna<3,>=2.5 in /usr/local/lib/python3.6/dist-packages (from requests<3.0.0,>=2.0.0->wikipedia) (2.10)\n",
            "Requirement already satisfied: certifi>=2017.4.17 in /usr/local/lib/python3.6/dist-packages (from requests<3.0.0,>=2.0.0->wikipedia) (2020.6.20)\n",
            "Building wheels for collected packages: wikipedia\n",
            "  Building wheel for wikipedia (setup.py) ... \u001b[?25l\u001b[?25hdone\n",
            "  Created wheel for wikipedia: filename=wikipedia-1.4.0-cp36-none-any.whl size=11686 sha256=71935be4bb74cc35a5c86f19ef7ad2e02f2f4e01ee6b462090031fa6de97d2b6\n",
            "  Stored in directory: /root/.cache/pip/wheels/87/2a/18/4e471fd96d12114d16fe4a446d00c3b38fb9efcb744bd31f4a\n",
            "Successfully built wikipedia\n",
            "Installing collected packages: wikipedia\n",
            "Successfully installed wikipedia-1.4.0\n"
          ],
          "name": "stdout"
        }
      ]
    },
    {
      "cell_type": "code",
      "metadata": {
        "id": "09eRA_kWqMZU",
        "colab_type": "code",
        "colab": {}
      },
      "source": [
        "#importing wikipedia\n",
        "import wikipedia"
      ],
      "execution_count": 2,
      "outputs": []
    },
    {
      "cell_type": "code",
      "metadata": {
        "id": "m03A7j2EqQBO",
        "colab_type": "code",
        "colab": {}
      },
      "source": [
        "#searching Deer animal in wikipedia using page()\n",
        "query = wikipedia.page(\"Deer animal\")"
      ],
      "execution_count": 3,
      "outputs": []
    },
    {
      "cell_type": "code",
      "metadata": {
        "id": "UqKe3OIBqe3V",
        "colab_type": "code",
        "colab": {
          "base_uri": "https://localhost:8080/",
          "height": 104
        },
        "outputId": "13fa1d6a-e1bc-4b97-edce-c6c7649a6abf"
      },
      "source": [
        "#printing the summary of that deer animal from the wikipedia \n",
        "print(query.summary)"
      ],
      "execution_count": 4,
      "outputs": [
        {
          "output_type": "stream",
          "text": [
            "The red deer (Cervus elaphus) is one of the largest deer species. The red deer inhabits most of Europe, the Caucasus Mountains region, Asia Minor, Iran, parts of western Asia, and central Asia. It also inhabits the Atlas Mountains region between Morocco and Tunisia in northwestern Africa, being the only species of deer to inhabit Africa. Red deer have been introduced to other areas, including Australia, New Zealand, United States, Canada, Peru, Uruguay, Chile and Argentina. In many parts of the world, the meat (venison) from red deer is used as a food source.\n",
            "Red deer are ruminants, characterized by a four-chambered stomach. Genetic evidence indicates the red deer as traditionally defined is a species group, rather than a single species, although it remains disputed as to exactly how many species the group includes. The closely related and slightly larger American elk or wapiti, native to North America and eastern parts of Asia, had been regarded as a subspecies of red deer, but recently it has been established as a distinct species. It is probable that the ancestor of all red deer, including wapiti, originated in central Asia and resembled sika deer.Although at one time red deer were rare in parts of Europe, they were never close to extinction. Reintroduction and conservation efforts, such as in the United Kingdom and Portugal, have resulted in an increase of red deer populations, while other areas, such as North Africa, have continued to show a population decline.\n",
            "\n",
            "\n"
          ],
          "name": "stdout"
        }
      ]
    }
  ]
}